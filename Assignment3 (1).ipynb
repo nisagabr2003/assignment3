{
  "nbformat": 4,
  "nbformat_minor": 0,
  "metadata": {
    "colab": {
      "provenance": []
    },
    "kernelspec": {
      "name": "python3",
      "display_name": "Python 3"
    },
    "language_info": {
      "name": "python"
    }
  },
  "cells": [
    {
      "cell_type": "markdown",
      "source": [
        "Name: Nisarga B R\n",
        "\n",
        "Part1: Basic Slicing:\n",
        "\n",
        "Introduction to slicing: a)Given a string s = \"Hello World!\",slice and print the following i.The entire string"
      ],
      "metadata": {
        "id": "QE7VGjitrxut"
      }
    },
    {
      "cell_type": "code",
      "source": [
        "s = \"Hello World!\"\n",
        "print(s)\n",
        ""
      ],
      "metadata": {
        "colab": {
          "base_uri": "https://localhost:8080/"
        },
        "id": "E9pKLnZwsCTR",
        "outputId": "137de484-36db-466b-9e7d-b94009046c3c"
      },
      "execution_count": 1,
      "outputs": [
        {
          "output_type": "stream",
          "name": "stdout",
          "text": [
            "Hello World!\n"
          ]
        }
      ]
    },
    {
      "cell_type": "markdown",
      "source": [
        "ii.The frist 5 characters"
      ],
      "metadata": {
        "id": "IUCZINiGsLvi"
      }
    },
    {
      "cell_type": "code",
      "source": [
        "s = \"Hello World!\"\n",
        "s[0:5]\n",
        ""
      ],
      "metadata": {
        "colab": {
          "base_uri": "https://localhost:8080/",
          "height": 36
        },
        "id": "N9iWWDUSsVsM",
        "outputId": "c14b4004-b9f4-475b-8a15-b89dbbe2bcea"
      },
      "execution_count": 2,
      "outputs": [
        {
          "output_type": "execute_result",
          "data": {
            "text/plain": [
              "'Hello'"
            ],
            "application/vnd.google.colaboratory.intrinsic+json": {
              "type": "string"
            }
          },
          "metadata": {},
          "execution_count": 2
        }
      ]
    },
    {
      "cell_type": "markdown",
      "source": [
        "iii.The last characters"
      ],
      "metadata": {
        "id": "B3k8xz-Gsa9E"
      }
    },
    {
      "cell_type": "code",
      "source": [
        "s = \"Hello World!\"\n",
        "s[6:12]"
      ],
      "metadata": {
        "colab": {
          "base_uri": "https://localhost:8080/",
          "height": 36
        },
        "id": "_8zCOwD4sed8",
        "outputId": "a8bb0c3f-f2a4-4224-fb8e-9fd262b8a11e"
      },
      "execution_count": 3,
      "outputs": [
        {
          "output_type": "execute_result",
          "data": {
            "text/plain": [
              "'World!'"
            ],
            "application/vnd.google.colaboratory.intrinsic+json": {
              "type": "string"
            }
          },
          "metadata": {},
          "execution_count": 3
        }
      ]
    },
    {
      "cell_type": "markdown",
      "source": [
        "iv.The string excludes the frist and last characters"
      ],
      "metadata": {
        "id": "XTrG2kCRsnOF"
      }
    },
    {
      "cell_type": "code",
      "source": [
        "s = \"Hello World!\"\n",
        "s[1:11]\n",
        ""
      ],
      "metadata": {
        "colab": {
          "base_uri": "https://localhost:8080/",
          "height": 36
        },
        "id": "AAC1SuBdsw4r",
        "outputId": "7f4dcfb0-dcd8-4f61-8c74-b2932016ae15"
      },
      "execution_count": 4,
      "outputs": [
        {
          "output_type": "execute_result",
          "data": {
            "text/plain": [
              "'ello World'"
            ],
            "application/vnd.google.colaboratory.intrinsic+json": {
              "type": "string"
            }
          },
          "metadata": {},
          "execution_count": 4
        }
      ]
    },
    {
      "cell_type": "markdown",
      "source": [
        "v.Every second character in the string"
      ],
      "metadata": {
        "id": "Juyici0Ds3i8"
      }
    },
    {
      "cell_type": "code",
      "source": [
        "s = \"Hello, World!\"\n",
        "s[0::2]"
      ],
      "metadata": {
        "colab": {
          "base_uri": "https://localhost:8080/",
          "height": 36
        },
        "id": "4lc2mWeHtLaV",
        "outputId": "c9ffa6c8-8ad3-4b5a-bd3f-9c5632176079"
      },
      "execution_count": 5,
      "outputs": [
        {
          "output_type": "execute_result",
          "data": {
            "text/plain": [
              "'Hlo ol!'"
            ],
            "application/vnd.google.colaboratory.intrinsic+json": {
              "type": "string"
            }
          },
          "metadata": {},
          "execution_count": 5
        }
      ]
    },
    {
      "cell_type": "markdown",
      "source": [
        "2.Slicing with negative indices: a.Use negative indices to slice and orint the following from the string s: a. The last 3 characters\n",
        "\n"
      ],
      "metadata": {
        "id": "n4RRtf7VtRg8"
      }
    },
    {
      "cell_type": "code",
      "source": [
        "s = \"Hello, World!\"\n",
        "s[:-4:-1]"
      ],
      "metadata": {
        "colab": {
          "base_uri": "https://localhost:8080/",
          "height": 36
        },
        "id": "yN8JxMsLtWCC",
        "outputId": "9d8db38e-7b44-40dc-9d47-01bae67147af"
      },
      "execution_count": 6,
      "outputs": [
        {
          "output_type": "execute_result",
          "data": {
            "text/plain": [
              "'!dl'"
            ],
            "application/vnd.google.colaboratory.intrinsic+json": {
              "type": "string"
            }
          },
          "metadata": {},
          "execution_count": 6
        }
      ]
    },
    {
      "cell_type": "markdown",
      "source": [
        "b. The string reversed"
      ],
      "metadata": {
        "id": "boVnRh6Stazc"
      }
    },
    {
      "cell_type": "code",
      "source": [
        "s = \"Hello, World!\"\n",
        "s[::-1]"
      ],
      "metadata": {
        "colab": {
          "base_uri": "https://localhost:8080/",
          "height": 36
        },
        "id": "IlvHbwlEtgCe",
        "outputId": "5181de46-5ef1-42e0-f6e7-cea8f85df46c"
      },
      "execution_count": 7,
      "outputs": [
        {
          "output_type": "execute_result",
          "data": {
            "text/plain": [
              "'!dlroW ,olleH'"
            ],
            "application/vnd.google.colaboratory.intrinsic+json": {
              "type": "string"
            }
          },
          "metadata": {},
          "execution_count": 7
        }
      ]
    },
    {
      "cell_type": "markdown",
      "source": [
        "Part2:Advanced Slicing\n",
        "\n",
        "1.Slicing Substring: a.Given a sentence=\"The quick brown fox jumps over lazy dog\",slice and print the following\n",
        "i.The word \"quick"
      ],
      "metadata": {
        "id": "4G1yQCt6tn0C"
      }
    },
    {
      "cell_type": "code",
      "source": [
        "sentence = \"The quick brown fox jumps over the lazy dog\"\n",
        "sentence[4:9]\n",
        ""
      ],
      "metadata": {
        "colab": {
          "base_uri": "https://localhost:8080/",
          "height": 36
        },
        "id": "LrsHVRO6t0a6",
        "outputId": "97752ba1-d8e6-41d1-de04-163aa0d1d8ca"
      },
      "execution_count": 8,
      "outputs": [
        {
          "output_type": "execute_result",
          "data": {
            "text/plain": [
              "'quick'"
            ],
            "application/vnd.google.colaboratory.intrinsic+json": {
              "type": "string"
            }
          },
          "metadata": {},
          "execution_count": 8
        }
      ]
    },
    {
      "cell_type": "markdown",
      "source": [
        "ii.The word \"lazy\""
      ],
      "metadata": {
        "id": "gu3vSr2ct68J"
      }
    },
    {
      "cell_type": "code",
      "source": [
        "sentence = \"The quick brown fox jumps over the lazy dog\"\n",
        "sentence[35:39]"
      ],
      "metadata": {
        "colab": {
          "base_uri": "https://localhost:8080/",
          "height": 36
        },
        "id": "-UXVQYNGt-yG",
        "outputId": "97cc1b59-d13c-4992-8dd7-1ddfc1957543"
      },
      "execution_count": 9,
      "outputs": [
        {
          "output_type": "execute_result",
          "data": {
            "text/plain": [
              "'lazy'"
            ],
            "application/vnd.google.colaboratory.intrinsic+json": {
              "type": "string"
            }
          },
          "metadata": {},
          "execution_count": 9
        }
      ]
    },
    {
      "cell_type": "markdown",
      "source": [
        "iii.The words \"brown fox jumps\""
      ],
      "metadata": {
        "id": "v4Tuo9hvuF3J"
      }
    },
    {
      "cell_type": "code",
      "source": [
        "sentence = \"The quick brown fox jumps over the lazy dog\"\n",
        "sentence[10:25]"
      ],
      "metadata": {
        "colab": {
          "base_uri": "https://localhost:8080/",
          "height": 36
        },
        "id": "JdQeTPyiuOI4",
        "outputId": "815d39ab-b5fa-46b7-fdab-af42f723614d"
      },
      "execution_count": 10,
      "outputs": [
        {
          "output_type": "execute_result",
          "data": {
            "text/plain": [
              "'brown fox jumps'"
            ],
            "application/vnd.google.colaboratory.intrinsic+json": {
              "type": "string"
            }
          },
          "metadata": {},
          "execution_count": 10
        }
      ]
    },
    {
      "cell_type": "markdown",
      "source": [
        "2.Step Slicing: a. Using step slicing to print the following from the string s:\n",
        "\n",
        "i.Every third character."
      ],
      "metadata": {
        "id": "o_hfvEdYuUNv"
      }
    },
    {
      "cell_type": "code",
      "source": [
        "a = \"welcome to python\"\n",
        "a[::3]"
      ],
      "metadata": {
        "colab": {
          "base_uri": "https://localhost:8080/",
          "height": 36
        },
        "id": "jDqPdi7ruZRh",
        "outputId": "3dec7af4-e9e2-4bfe-cd75-4ff8229879c4"
      },
      "execution_count": 11,
      "outputs": [
        {
          "output_type": "execute_result",
          "data": {
            "text/plain": [
              "'wceoyo'"
            ],
            "application/vnd.google.colaboratory.intrinsic+json": {
              "type": "string"
            }
          },
          "metadata": {},
          "execution_count": 11
        }
      ]
    },
    {
      "cell_type": "markdown",
      "source": [
        "ii.Every third character starting from the second character"
      ],
      "metadata": {
        "id": "iOoGsLLLuele"
      }
    },
    {
      "cell_type": "code",
      "source": [
        "a = \"welcome to python\"\n",
        "a[1::3]"
      ],
      "metadata": {
        "colab": {
          "base_uri": "https://localhost:8080/",
          "height": 36
        },
        "id": "4sM8eh5rujKr",
        "outputId": "dd49edf8-0fc6-494a-bcc9-6c3c2244606b"
      },
      "execution_count": 12,
      "outputs": [
        {
          "output_type": "execute_result",
          "data": {
            "text/plain": [
              "'eo  tn'"
            ],
            "application/vnd.google.colaboratory.intrinsic+json": {
              "type": "string"
            }
          },
          "metadata": {},
          "execution_count": 12
        }
      ]
    },
    {
      "cell_type": "markdown",
      "source": [
        "iii.The string reversed,stepping by 2"
      ],
      "metadata": {
        "id": "F3Kc0eCUun-v"
      }
    },
    {
      "cell_type": "code",
      "source": [
        "a = \"welcome to python\"\n",
        "a[::-2]"
      ],
      "metadata": {
        "colab": {
          "base_uri": "https://localhost:8080/",
          "height": 36
        },
        "id": "uBt8bE5yutNt",
        "outputId": "cbf4d205-4bb7-453b-b5d9-1cbabb5c9152"
      },
      "execution_count": 13,
      "outputs": [
        {
          "output_type": "execute_result",
          "data": {
            "text/plain": [
              "'nhy teolw'"
            ],
            "application/vnd.google.colaboratory.intrinsic+json": {
              "type": "string"
            }
          },
          "metadata": {},
          "execution_count": 13
        }
      ]
    },
    {
      "cell_type": "markdown",
      "source": [
        "Part3: Practical Application the following:\n",
        "\n",
        "1.Extracting Information: a. Given a string data =\"2024-09-01,Sunny,25°C\",extract and print\n",
        "\n",
        "i.The date"
      ],
      "metadata": {
        "id": "MvcX8Y3Ju0Wh"
      }
    },
    {
      "cell_type": "code",
      "source": [
        "data = \"2024-09-03,Sunny,25°C\"\n",
        "data[0:10]\n",
        ""
      ],
      "metadata": {
        "colab": {
          "base_uri": "https://localhost:8080/",
          "height": 36
        },
        "id": "sLHcDyKTu45G",
        "outputId": "21c3d3f9-d61d-4c15-edc9-4660998de35c"
      },
      "execution_count": 14,
      "outputs": [
        {
          "output_type": "execute_result",
          "data": {
            "text/plain": [
              "'2024-09-03'"
            ],
            "application/vnd.google.colaboratory.intrinsic+json": {
              "type": "string"
            }
          },
          "metadata": {},
          "execution_count": 14
        }
      ]
    },
    {
      "cell_type": "markdown",
      "source": [
        "ii.The weather condition"
      ],
      "metadata": {
        "id": "6Bgz2A7lu-he"
      }
    },
    {
      "cell_type": "code",
      "source": [
        "data = \"2024-09-03,Sunny,25°C\"\n",
        "data[11:16]"
      ],
      "metadata": {
        "colab": {
          "base_uri": "https://localhost:8080/",
          "height": 36
        },
        "id": "WRB3jssuvFec",
        "outputId": "c1d3b93c-cf07-4acc-927d-60efd41b78cc"
      },
      "execution_count": 15,
      "outputs": [
        {
          "output_type": "execute_result",
          "data": {
            "text/plain": [
              "'Sunny'"
            ],
            "application/vnd.google.colaboratory.intrinsic+json": {
              "type": "string"
            }
          },
          "metadata": {},
          "execution_count": 15
        }
      ]
    },
    {
      "cell_type": "markdown",
      "source": [
        "iii.Temperature"
      ],
      "metadata": {
        "id": "3lnci8xCvKox"
      }
    },
    {
      "cell_type": "code",
      "source": [
        "data = \"2024-09-03,Sunny,25°C\"\n",
        "data[17:21]"
      ],
      "metadata": {
        "colab": {
          "base_uri": "https://localhost:8080/",
          "height": 36
        },
        "id": "r0ieFPZ7vRE9",
        "outputId": "5533a05d-0c1d-48d7-9d08-8c4c0b5ce079"
      },
      "execution_count": 16,
      "outputs": [
        {
          "output_type": "execute_result",
          "data": {
            "text/plain": [
              "'25°C'"
            ],
            "application/vnd.google.colaboratory.intrinsic+json": {
              "type": "string"
            }
          },
          "metadata": {},
          "execution_count": 16
        }
      ]
    },
    {
      "cell_type": "markdown",
      "source": [
        "2.Reforming Strings: i. Given a string phone_number=\"(123) 456-7890\",reformate it to '123-456-7890'"
      ],
      "metadata": {
        "id": "Pkidt8GvvWsn"
      }
    },
    {
      "cell_type": "code",
      "source": [
        "phone_number = \"(123) 456-7890\"\n",
        "phone_number[1:4] +\"-\"+phone_number[6:9] +\"-\"+ phone_number[10:14]\n",
        ""
      ],
      "metadata": {
        "colab": {
          "base_uri": "https://localhost:8080/",
          "height": 36
        },
        "id": "__sp52qVvgrH",
        "outputId": "8c2077b2-eff8-400e-cf58-b07be68d556a"
      },
      "execution_count": 17,
      "outputs": [
        {
          "output_type": "execute_result",
          "data": {
            "text/plain": [
              "'123-456-7890'"
            ],
            "application/vnd.google.colaboratory.intrinsic+json": {
              "type": "string"
            }
          },
          "metadata": {},
          "execution_count": 17
        }
      ]
    },
    {
      "cell_type": "markdown",
      "source": [
        "Part4: Questions based on string methods\n",
        "\n",
        "1.Upper and Lower case conversion: i.Giver a string s=\"Hello, World!\",perform the fpllowing: a.Convert the string to all uppercase letters"
      ],
      "metadata": {
        "id": "YdjeOYF2vl3z"
      }
    },
    {
      "cell_type": "code",
      "source": [
        "s = \"Hello World!\"\n",
        "s.upper()"
      ],
      "metadata": {
        "colab": {
          "base_uri": "https://localhost:8080/",
          "height": 36
        },
        "id": "Xp0XIDUev9QI",
        "outputId": "ab5e36fe-7705-4121-e0bb-ccee30276aed"
      },
      "execution_count": 18,
      "outputs": [
        {
          "output_type": "execute_result",
          "data": {
            "text/plain": [
              "'HELLO WORLD!'"
            ],
            "application/vnd.google.colaboratory.intrinsic+json": {
              "type": "string"
            }
          },
          "metadata": {},
          "execution_count": 18
        }
      ]
    },
    {
      "cell_type": "markdown",
      "source": [
        "b:Convert all string to lowercase letters"
      ],
      "metadata": {
        "id": "l4YoorvIwCkB"
      }
    },
    {
      "cell_type": "code",
      "source": [
        "s = \"Hello World!\"\n",
        "s.lower()"
      ],
      "metadata": {
        "colab": {
          "base_uri": "https://localhost:8080/",
          "height": 36
        },
        "id": "62KtGVRUwIGa",
        "outputId": "3fc087b3-e00f-44ff-b4d5-007bb087fe3c"
      },
      "execution_count": 19,
      "outputs": [
        {
          "output_type": "execute_result",
          "data": {
            "text/plain": [
              "'hello world!'"
            ],
            "application/vnd.google.colaboratory.intrinsic+json": {
              "type": "string"
            }
          },
          "metadata": {},
          "execution_count": 19
        }
      ]
    },
    {
      "cell_type": "markdown",
      "source": [
        "c:convert all the string to title case\n",
        "\n"
      ],
      "metadata": {
        "id": "8AwX6qdSwXNL"
      }
    },
    {
      "cell_type": "code",
      "source": [
        "s = \"Hello World!\"\n",
        "s.title()"
      ],
      "metadata": {
        "colab": {
          "base_uri": "https://localhost:8080/",
          "height": 36
        },
        "id": "PYNYYiPnwcD1",
        "outputId": "2aeacaf5-a03e-404b-f68d-d207ed9de932"
      },
      "execution_count": 20,
      "outputs": [
        {
          "output_type": "execute_result",
          "data": {
            "text/plain": [
              "'Hello World!'"
            ],
            "application/vnd.google.colaboratory.intrinsic+json": {
              "type": "string"
            }
          },
          "metadata": {},
          "execution_count": 20
        }
      ]
    },
    {
      "cell_type": "markdown",
      "source": [
        "d: capitalize the first letter of the string"
      ],
      "metadata": {
        "id": "vbU2PpEFwhiJ"
      }
    },
    {
      "cell_type": "code",
      "source": [
        "s = \"Hello World!\"\n",
        "s.capitalize()"
      ],
      "metadata": {
        "colab": {
          "base_uri": "https://localhost:8080/",
          "height": 36
        },
        "id": "S3T_0SDqwnK3",
        "outputId": "5a276745-8199-4b20-c90d-9b66292b6615"
      },
      "execution_count": 21,
      "outputs": [
        {
          "output_type": "execute_result",
          "data": {
            "text/plain": [
              "'Hello world!'"
            ],
            "application/vnd.google.colaboratory.intrinsic+json": {
              "type": "string"
            }
          },
          "metadata": {},
          "execution_count": 21
        }
      ]
    },
    {
      "cell_type": "markdown",
      "source": [
        "2.Finding Substrings:Given a string s=\"The quick brown fox jumps over the lazy dog\",perform the following\n",
        "\n",
        "a.Find thebposition of the substring \"fox\"\n",
        "\n"
      ],
      "metadata": {
        "id": "wuzMRqKxwsuG"
      }
    },
    {
      "cell_type": "code",
      "source": [
        "s = \"The quick brown fox jumps over the lazy dog\"\n",
        "s.find(\"fox\")"
      ],
      "metadata": {
        "colab": {
          "base_uri": "https://localhost:8080/"
        },
        "id": "kcKVYjJ9wyvT",
        "outputId": "0577b005-028e-4b17-ddcf-acbdcd2c265e"
      },
      "execution_count": 22,
      "outputs": [
        {
          "output_type": "execute_result",
          "data": {
            "text/plain": [
              "16"
            ]
          },
          "metadata": {},
          "execution_count": 22
        }
      ]
    },
    {
      "cell_type": "markdown",
      "source": [
        "b.Check if the substring \"cat\" is in the string"
      ],
      "metadata": {
        "id": "zsFqENViw5CL"
      }
    },
    {
      "cell_type": "code",
      "source": [
        "s = \"The quick brown fox jumps over the lazy dog\"\n",
        "s.find(\"cat\")"
      ],
      "metadata": {
        "colab": {
          "base_uri": "https://localhost:8080/"
        },
        "id": "Hw3IlOonw-R1",
        "outputId": "09fcca0a-0f0b-4a3e-bdc5-a69935950886"
      },
      "execution_count": 23,
      "outputs": [
        {
          "output_type": "execute_result",
          "data": {
            "text/plain": [
              "-1"
            ]
          },
          "metadata": {},
          "execution_count": 23
        }
      ]
    },
    {
      "cell_type": "markdown",
      "source": [
        "3.Replacing Substrings: Given a string s = \"The quick brown fox jumps over the lazy dog\",perform the following:\n",
        "\n",
        "a.Replace fox with cat"
      ],
      "metadata": {
        "id": "UOESd4k8xDwP"
      }
    },
    {
      "cell_type": "code",
      "source": [
        "s = \"The quick brown fox jumps over the lazy dog\"\n",
        "s.replace(\"fox\",\"cat\")\n",
        ""
      ],
      "metadata": {
        "colab": {
          "base_uri": "https://localhost:8080/",
          "height": 36
        },
        "id": "Gq-qzR3uxH40",
        "outputId": "f675ddb5-fe57-44bd-c451-451ad4dab574"
      },
      "execution_count": 24,
      "outputs": [
        {
          "output_type": "execute_result",
          "data": {
            "text/plain": [
              "'The quick brown cat jumps over the lazy dog'"
            ],
            "application/vnd.google.colaboratory.intrinsic+json": {
              "type": "string"
            }
          },
          "metadata": {},
          "execution_count": 24
        }
      ]
    },
    {
      "cell_type": "markdown",
      "source": [
        "b.Replace all the spaces by underscores"
      ],
      "metadata": {
        "id": "99G9hfjPxOdN"
      }
    },
    {
      "cell_type": "code",
      "source": [
        "s = \"The quick brown fox jumps over the lazy dog\"\n",
        "s.replace(\" \",\"_\")"
      ],
      "metadata": {
        "colab": {
          "base_uri": "https://localhost:8080/",
          "height": 36
        },
        "id": "baWGXO5ZxUy2",
        "outputId": "4cb60f63-0628-4a16-98f2-f5515b2c0a23"
      },
      "execution_count": 25,
      "outputs": [
        {
          "output_type": "execute_result",
          "data": {
            "text/plain": [
              "'The_quick_brown_fox_jumps_over_the_lazy_dog'"
            ],
            "application/vnd.google.colaboratory.intrinsic+json": {
              "type": "string"
            }
          },
          "metadata": {},
          "execution_count": 25
        }
      ]
    },
    {
      "cell_type": "markdown",
      "source": [
        "c.Split the string into list of words"
      ],
      "metadata": {
        "id": "XRAOitLIxb9g"
      }
    },
    {
      "cell_type": "code",
      "source": [
        "s = \"The quick brown fox jumps over the lazy dog\"\n",
        "s.split()"
      ],
      "metadata": {
        "colab": {
          "base_uri": "https://localhost:8080/"
        },
        "id": "QjfnUr6KxfjI",
        "outputId": "eb7fd259-3298-4850-a444-84a213e7fcf7"
      },
      "execution_count": 26,
      "outputs": [
        {
          "output_type": "execute_result",
          "data": {
            "text/plain": [
              "['The', 'quick', 'brown', 'fox', 'jumps', 'over', 'the', 'lazy', 'dog']"
            ]
          },
          "metadata": {},
          "execution_count": 26
        }
      ]
    },
    {
      "cell_type": "markdown",
      "source": [
        "d.Split the string by the letter \"o\""
      ],
      "metadata": {
        "id": "nCKG72_Dxk0E"
      }
    },
    {
      "cell_type": "code",
      "source": [
        "s = \"The quick brown fox jumps over the lazy dog\"\n",
        "s.split(\"o\")"
      ],
      "metadata": {
        "colab": {
          "base_uri": "https://localhost:8080/"
        },
        "id": "jHojufRFxqjL",
        "outputId": "7d7b1555-ce66-4c8a-b7d1-4f411bbc81a3"
      },
      "execution_count": 27,
      "outputs": [
        {
          "output_type": "execute_result",
          "data": {
            "text/plain": [
              "['The quick br', 'wn f', 'x jumps ', 'ver the lazy d', 'g']"
            ]
          },
          "metadata": {},
          "execution_count": 27
        }
      ]
    },
    {
      "cell_type": "markdown",
      "source": [
        "4.Joining strings: Given a list of words = [\"The\",\"quick\",\"brown\",\"fox\"],perform the following:\n",
        "\n",
        "a.join the words with spaces"
      ],
      "metadata": {
        "id": "XWQ_reeFxv7M"
      }
    },
    {
      "cell_type": "code",
      "source": [
        "words = [\"The\",\"quick\",\"brown\",\"fox\"]\n",
        "\" \".join(words)"
      ],
      "metadata": {
        "colab": {
          "base_uri": "https://localhost:8080/",
          "height": 36
        },
        "id": "AhF1sSjkx1Kb",
        "outputId": "e6bff4c7-653d-4e4c-fa00-cbf4ee876a27"
      },
      "execution_count": 28,
      "outputs": [
        {
          "output_type": "execute_result",
          "data": {
            "text/plain": [
              "'The quick brown fox'"
            ],
            "application/vnd.google.colaboratory.intrinsic+json": {
              "type": "string"
            }
          },
          "metadata": {},
          "execution_count": 28
        }
      ]
    },
    {
      "cell_type": "markdown",
      "source": [
        "b.Join the words with hyphens"
      ],
      "metadata": {
        "id": "xK6uPrNJx7KO"
      }
    },
    {
      "cell_type": "code",
      "source": [
        "words = [\"The\",\"quick\",\"brown\",\"fox\"]\n",
        "\"-\".join(words)"
      ],
      "metadata": {
        "colab": {
          "base_uri": "https://localhost:8080/",
          "height": 36
        },
        "id": "tVwhLS-tyAnr",
        "outputId": "496acf62-032f-4994-dbdf-6319c6e18126"
      },
      "execution_count": 29,
      "outputs": [
        {
          "output_type": "execute_result",
          "data": {
            "text/plain": [
              "'The-quick-brown-fox'"
            ],
            "application/vnd.google.colaboratory.intrinsic+json": {
              "type": "string"
            }
          },
          "metadata": {},
          "execution_count": 29
        }
      ]
    }
  ]
}